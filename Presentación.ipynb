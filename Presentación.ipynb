{
 "cells": [
  {
   "cell_type": "markdown",
   "metadata": {},
   "source": [
    "Niveles de Encabezado"
   ]
  },
  {
   "cell_type": "markdown",
   "metadata": {},
   "source": [
    "=="
   ]
  },
  {
   "cell_type": "markdown",
   "metadata": {},
   "source": [
    "> babfofjsdfjsdlfeefs\n",
    "fmsdsdsdlfmslfslfsfmsfmsfef"
   ]
  },
  {
   "cell_type": "markdown",
   "metadata": {},
   "source": [
    "-celdas con HTML\n",
    "<blockquete>"
   ]
  },
  {
   "cell_type": "markdown",
   "metadata": {},
   "source": [
    "PAlabras enfatizadas **\n",
    "\n",
    "*Martin*"
   ]
  },
  {
   "cell_type": "markdown",
   "metadata": {},
   "source": [
    "**Martin**"
   ]
  },
  {
   "cell_type": "markdown",
   "metadata": {},
   "source": [
    "***Martin***"
   ]
  },
  {
   "cell_type": "markdown",
   "metadata": {},
   "source": [
    " Martin "
   ]
  },
  {
   "cell_type": "markdown",
   "metadata": {},
   "source": [
    "Lista Uno\n",
    ">+ a\n",
    ">+ b"
   ]
  },
  {
   "cell_type": "markdown",
   "metadata": {},
   "source": [
    " Tachado \n",
    " \n",
    " \n",
    " "
   ]
  },
  {
   "cell_type": "markdown",
   "metadata": {},
   "source": [
    "2> + a\n",
    ">\n",
    "> + b\n",
    ">\n",
    "> + c\n"
   ]
  },
  {
   "cell_type": "markdown",
   "metadata": {},
   "source": [
    "> dssfsfmsmsdfmsmsfslcs cx csflv d se,d c\n",
    "sdñsdmsdmsdfmsdflsdfsdld ekd ccedsfsfslmmsfmsmsdlmsddlfmslfmsfmsmmfslfmsmsmfsmmfmf\n",
    "fs s s sdfek cencee  sdssfsmlsfmelece  ef  ed fe fw\n",
    "df dsfec  \n",
    "> + a\n",
    ">\n",
    "> + j\n",
    ">\n",
    "> + 8"
   ]
  },
  {
   "cell_type": "markdown",
   "metadata": {},
   "source": [
    "1  > + a\n",
    "23 > + b\n",
    "3  > + c"
   ]
  },
  {
   "cell_type": "markdown",
   "metadata": {},
   "source": [
    "este es un vìnculo a [google] \n",
    "(http://www.google.com)"
   ]
  },
  {
   "cell_type": "markdown",
   "metadata": {},
   "source": [
    "[anaconda] y [python]"
   ]
  },
  {
   "cell_type": "markdown",
   "metadata": {},
   "source": [
    "(#---base---)\n",
    "\n",
    "[anaconda] y [python]"
   ]
  },
  {
   "cell_type": "markdown",
   "metadata": {},
   "source": [
    "! [alt text] (C:/Users/luzma/Pictures/VARIAS/MARTIN/CELEBRANDO ELCUMPLEAÑOSNO.4/img_1410.JPG)"
   ]
  },
  {
   "cell_type": "markdown",
   "metadata": {},
   "source": [
    "8$$ X^2 $$"
   ]
  },
  {
   "cell_type": "markdown",
   "metadata": {
    "slideshow": {
     "slide_type": "slide"
    }
   },
   "source": [
    " #  Titulo de la presentación"
   ]
  },
  {
   "cell_type": "markdown",
   "metadata": {
    "slideshow": {
     "slide_type": "fragment"
    }
   },
   "source": []
  },
  {
   "cell_type": "markdown",
   "metadata": {
    "slideshow": {
     "slide_type": "slide"
    }
   },
   "source": [
    "# Slide 1"
   ]
  },
  {
   "cell_type": "markdown",
   "metadata": {
    "slideshow": {
     "slide_type": "slide"
    }
   },
   "source": [
    "# Slide 2 \n",
    "\n",
    "> + Lista 1\n",
    "> + Lista 2\n",
    "> + Lista 3"
   ]
  },
  {
   "cell_type": "code",
   "execution_count": 2,
   "metadata": {},
   "outputs": [
    {
     "name": "stdout",
     "output_type": "stream",
     "text": [
      "Hola Clase!!!!!!\n"
     ]
    }
   ],
   "source": [
    "print (\"Hola Clase!!!!!!\") "
   ]
  },
  {
   "cell_type": "markdown",
   "metadata": {
    "slideshow": {
     "slide_type": "slide"
    }
   },
   "source": [
    "# Slide 3"
   ]
  },
  {
   "cell_type": "code",
   "execution_count": null,
   "metadata": {},
   "outputs": [],
   "source": []
  }
 ],
 "metadata": {
  "celltoolbar": "Slideshow",
  "kernelspec": {
   "display_name": "Python 3",
   "language": "python",
   "name": "python3"
  },
  "language_info": {
   "codemirror_mode": {
    "name": "ipython",
    "version": 3
   },
   "file_extension": ".py",
   "mimetype": "text/x-python",
   "name": "python",
   "nbconvert_exporter": "python",
   "pygments_lexer": "ipython3",
   "version": "3.6.5"
  }
 },
 "nbformat": 4,
 "nbformat_minor": 2
}
